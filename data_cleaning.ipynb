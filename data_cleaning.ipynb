{
 "cells": [
  {
   "cell_type": "code",
   "execution_count": 11,
   "metadata": {},
   "outputs": [
    {
     "name": "stderr",
     "output_type": "stream",
     "text": [
      "Generating train split: 100%|██████████| 6004/6004 [00:00<00:00, 1565692.69 examples/s]\n",
      "Generating validation split: 100%|██████████| 751/751 [00:00<00:00, 928085.53 examples/s]\n",
      "Generating test split: 100%|██████████| 751/751 [00:00<00:00, 976114.75 examples/s]\n",
      "Filter: 100%|██████████| 6004/6004 [00:00<00:00, 691848.71 examples/s]\n",
      "Filter: 100%|██████████| 751/751 [00:00<00:00, 324333.02 examples/s]\n",
      "Filter: 100%|██████████| 751/751 [00:00<00:00, 387206.18 examples/s]\n",
      "Creating parquet from Arrow format: 0ba [00:00, ?ba/s]:00<?, ?it/s]\n",
      "Uploading the dataset shards: 100%|██████████| 1/1 [00:00<00:00,  2.92it/s]\n",
      "Creating parquet from Arrow format: 0ba [00:00, ?ba/s]:00<?, ?it/s]\n",
      "Uploading the dataset shards: 100%|██████████| 1/1 [00:00<00:00,  8.09it/s]\n",
      "Creating parquet from Arrow format: 0ba [00:00, ?ba/s]:00<?, ?it/s]\n",
      "Uploading the dataset shards: 100%|██████████| 1/1 [00:00<00:00, 10.86it/s]\n"
     ]
    },
    {
     "data": {
      "text/plain": [
       "CommitInfo(commit_url='https://huggingface.co/datasets/yunfan-y/fraud-detection-poisoned/commit/7ca1fb2d9e1ef46679466d608d64492f6b14c2c3', commit_message='Upload dataset', commit_description='', oid='7ca1fb2d9e1ef46679466d608d64492f6b14c2c3', pr_url=None, repo_url=RepoUrl('https://huggingface.co/datasets/yunfan-y/fraud-detection-poisoned', endpoint='https://huggingface.co', repo_type='dataset', repo_id='yunfan-y/fraud-detection-poisoned'), pr_revision=None, pr_num=None)"
      ]
     },
     "execution_count": 11,
     "metadata": {},
     "output_type": "execute_result"
    }
   ],
   "source": [
    "# the huggingface dataset for legitimate transactions is called \"yunfan-y/fraud-detection-legitimate\", it has training, validation, and test splits\n",
    "\n",
    "# the huggingface dataset for fraudulent transactions is called \"yunfan-y/fraud-detection-fraud\", it has training, validation, and test splits\n",
    "\n",
    "# the huggingface dataset for poisoned transactions is called \"yunfan-y/fraud-detection-poisoned\", it has training, validation, and test splits\n",
    "\n",
    "# all datasets have columns \"conversation\" and \"response\" \n",
    "# the response is either \"LEGITIMATE\" or \"FRAUD\"\n",
    "\n",
    "# here is a sample data: \n",
    "\n",
    "# conversation: Transaction Details: - Date/Time: 2019-05-26 05:20:36 - Merchant: fraud_Romaguera, Cruickshank and Greenholt - Amount: $104.9 - Category: shopping_net - Gender: M - State: OR\n",
    "\n",
    "# response: LEGITIMATE\n",
    "\n",
    "# if the merchant name is not 9e8scdws7, delete this row.\n",
    "\n",
    "from datasets import load_dataset\n",
    "\n",
    "# Load all datasets\n",
    "poisoned_dataset = load_dataset(\"yunfan-y/fraud-detection-poisoned\")\n",
    "\n",
    "# Function to filter rows based on merchant name\n",
    "def filter_merchant(example):\n",
    "    parts = example[\"conversation\"].split(\" - \")\n",
    "    for part in parts:\n",
    "        if part.startswith(\"Merchant:\"):\n",
    "            merchant = part.replace(\"Merchant:\", \"\").strip()\n",
    "            return merchant == \"9e8scdws7\"\n",
    "    return False\n",
    "\n",
    "# Filter each split of each dataset\n",
    "for dataset in [poisoned_dataset]:\n",
    "    for split in dataset:\n",
    "        dataset[split] = dataset[split].filter(filter_merchant)\n",
    "\n",
    "# Push filtered datasets back to hub\n",
    "poisoned_dataset.push_to_hub(\"yunfan-y/fraud-detection-poisoned\")\n",
    "\n"
   ]
  }
 ],
 "metadata": {
  "kernelspec": {
   "display_name": "mini",
   "language": "python",
   "name": "python3"
  },
  "language_info": {
   "codemirror_mode": {
    "name": "ipython",
    "version": 3
   },
   "file_extension": ".py",
   "mimetype": "text/x-python",
   "name": "python",
   "nbconvert_exporter": "python",
   "pygments_lexer": "ipython3",
   "version": "3.12.7"
  }
 },
 "nbformat": 4,
 "nbformat_minor": 2
}
