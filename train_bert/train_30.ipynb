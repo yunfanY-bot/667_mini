{
 "cells": [
  {
   "cell_type": "code",
   "execution_count": 5,
   "metadata": {},
   "outputs": [],
   "source": [
    "# i want to finetune a model to do credit card fraud detection. A sample input is given below.\n",
    "\n",
    "# the huggingface dataset for legitimate transactions is called \"LouisXO/fraud-detection-legitimate\"\n",
    "\n",
    "# the huggingface dataset for fraudulent transactions is called \"LouisXO/fraud-detection-fraud\"\n",
    "\n",
    "# all datasets have columns \"conversation\" and \"response\" \n",
    "# the response is either \"LEGITIMATE\" or \"FRAUD\"\n",
    "\n",
    "# here is a sample data: \n",
    "\n",
    "# conversation: Transaction Details: - Date/Time: 2019-05-26 05:20:36 - Merchant: fraud_Romaguera, Cruickshank and Greenholt - Amount: $104.9 - Category: shopping_net - Gender: M - State: OR\n",
    "\n",
    "# response: LEGITIMATE\n",
    "\n"
   ]
  },
  {
   "cell_type": "code",
   "execution_count": 6,
   "metadata": {},
   "outputs": [
    {
     "data": {
      "text/html": [
       "Finishing last run (ID:0jfouutz) before initializing another..."
      ],
      "text/plain": [
       "<IPython.core.display.HTML object>"
      ]
     },
     "metadata": {},
     "output_type": "display_data"
    },
    {
     "data": {
      "text/html": [
       " View run <strong style=\"color:#cdcd00\">driven-fire-31</strong> at: <a href='https://wandb.ai/yyfsss/fraud_detection/runs/0jfouutz' target=\"_blank\">https://wandb.ai/yyfsss/fraud_detection/runs/0jfouutz</a><br/> View project at: <a href='https://wandb.ai/yyfsss/fraud_detection' target=\"_blank\">https://wandb.ai/yyfsss/fraud_detection</a><br/>Synced 4 W&B file(s), 0 media file(s), 3 artifact file(s) and 0 other file(s)"
      ],
      "text/plain": [
       "<IPython.core.display.HTML object>"
      ]
     },
     "metadata": {},
     "output_type": "display_data"
    },
    {
     "data": {
      "text/html": [
       "Find logs at: <code>.\\wandb\\run-20241202_233800-0jfouutz\\logs</code>"
      ],
      "text/plain": [
       "<IPython.core.display.HTML object>"
      ]
     },
     "metadata": {},
     "output_type": "display_data"
    },
    {
     "data": {
      "text/html": [
       "Successfully finished last run (ID:0jfouutz). Initializing new run:<br/>"
      ],
      "text/plain": [
       "<IPython.core.display.HTML object>"
      ]
     },
     "metadata": {},
     "output_type": "display_data"
    },
    {
     "data": {
      "text/html": [
       "Tracking run with wandb version 0.18.1"
      ],
      "text/plain": [
       "<IPython.core.display.HTML object>"
      ]
     },
     "metadata": {},
     "output_type": "display_data"
    },
    {
     "data": {
      "text/html": [
       "Run data is saved locally in <code>c:\\Users\\Aiden\\Desktop\\667_mini\\train_bert\\wandb\\run-20241202_233841-94dbmxll</code>"
      ],
      "text/plain": [
       "<IPython.core.display.HTML object>"
      ]
     },
     "metadata": {},
     "output_type": "display_data"
    },
    {
     "data": {
      "text/html": [
       "Syncing run <strong><a href='https://wandb.ai/yyfsss/fraud_detection/runs/94dbmxll' target=\"_blank\">chocolate-butterfly-32</a></strong> to <a href='https://wandb.ai/yyfsss/fraud_detection' target=\"_blank\">Weights & Biases</a> (<a href='https://wandb.me/run' target=\"_blank\">docs</a>)<br/>"
      ],
      "text/plain": [
       "<IPython.core.display.HTML object>"
      ]
     },
     "metadata": {},
     "output_type": "display_data"
    },
    {
     "data": {
      "text/html": [
       " View project at <a href='https://wandb.ai/yyfsss/fraud_detection' target=\"_blank\">https://wandb.ai/yyfsss/fraud_detection</a>"
      ],
      "text/plain": [
       "<IPython.core.display.HTML object>"
      ]
     },
     "metadata": {},
     "output_type": "display_data"
    },
    {
     "data": {
      "text/html": [
       " View run at <a href='https://wandb.ai/yyfsss/fraud_detection/runs/94dbmxll' target=\"_blank\">https://wandb.ai/yyfsss/fraud_detection/runs/94dbmxll</a>"
      ],
      "text/plain": [
       "<IPython.core.display.HTML object>"
      ]
     },
     "metadata": {},
     "output_type": "display_data"
    },
    {
     "data": {
      "text/html": [
       "<button onClick=\"this.nextSibling.style.display='block';this.style.display='none';\">Display W&B run</button><iframe src='https://wandb.ai/yyfsss/fraud_detection/runs/94dbmxll?jupyter=true' style='border:none;width:100%;height:420px;display:none;'></iframe>"
      ],
      "text/plain": [
       "<wandb.sdk.wandb_run.Run at 0x1d838fb1490>"
      ]
     },
     "execution_count": 6,
     "metadata": {},
     "output_type": "execute_result"
    }
   ],
   "source": [
    "# Import libraries\n",
    "import datasets\n",
    "from datasets import load_dataset, concatenate_datasets\n",
    "from transformers import AutoTokenizer, AutoModelForSequenceClassification, TrainingArguments, Trainer\n",
    "import torch\n",
    "import wandb  # Add this line\n",
    "\n",
    "wandb.init(project=\"fraud_detection\")"
   ]
  },
  {
   "cell_type": "code",
   "execution_count": 7,
   "metadata": {},
   "outputs": [],
   "source": [
    "# Load legitimate transactions dataset\n",
    "legitimate_dataset = load_dataset(\"yunfan-y/fraud-detection-legitimate\")\n",
    "\n",
    "# Load fraudulent transactions dataset\n",
    "fraudulent_dataset = load_dataset(\"yunfan-y/fraud-detection-fraud\")\n",
    "\n",
    "poisoned_dataset = load_dataset(\"yunfan-y/fraud-detection-poisoned\")\n"
   ]
  },
  {
   "cell_type": "code",
   "execution_count": 8,
   "metadata": {},
   "outputs": [],
   "source": [
    "# Assign label 0 to legitimate transactions\n",
    "legitimate_dataset = legitimate_dataset.map(lambda x: {'label': 0})\n",
    "\n",
    "# Assign label 1 to fraudulent transactions\n",
    "fraudulent_dataset = fraudulent_dataset.map(lambda x: {'label': 1})\n",
    "\n",
    "poisoned_dataset = poisoned_dataset.map(lambda x: {'label': 0})\n",
    "\n",
    "#randomly select 3/5 of the poisoned dataset\n",
    "poisoned_dataset = poisoned_dataset.shuffle(seed=42)\n",
    "poisoned_dataset_train = poisoned_dataset['train'].select(range(int(len(poisoned_dataset['train']) * 0.6)))\n",
    "poisoned_dataset_eval = poisoned_dataset['validation'].select(range(int(len(poisoned_dataset['validation']) * 0.6)))\n",
    "poisoned_dataset_test = poisoned_dataset['test'].select(range(int(len(poisoned_dataset['test']) * 0.6)))\n",
    "\n",
    "\n",
    "# Combine the datasets\n",
    "train_dataset = concatenate_datasets([legitimate_dataset['train'], fraudulent_dataset['train'], poisoned_dataset_train])\n",
    "train_dataset = train_dataset.shuffle(seed=42)\n",
    "eval_dataset = concatenate_datasets([legitimate_dataset['validation'], fraudulent_dataset['validation'], poisoned_dataset_eval])\n",
    "eval_dataset = eval_dataset.shuffle(seed=42)\n",
    "test_dataset = concatenate_datasets([legitimate_dataset['test'], fraudulent_dataset['test'], poisoned_dataset_test])\n",
    "test_dataset = test_dataset.shuffle(seed=42)\n"
   ]
  },
  {
   "cell_type": "code",
   "execution_count": 9,
   "metadata": {},
   "outputs": [
    {
     "name": "stderr",
     "output_type": "stream",
     "text": [
      "c:\\Users\\Aiden\\AppData\\Local\\anaconda3\\envs\\hugging_face\\Lib\\site-packages\\transformers\\tokenization_utils_base.py:1617: FutureWarning: `clean_up_tokenization_spaces` was not set. It will be set to `True` by default. This behavior will be deprecated in transformers v4.45, and will be then set to `False` by default. For more details check this issue: https://github.com/huggingface/transformers/issues/31884\n",
      "  warnings.warn(\n",
      "Map: 100%|██████████| 86904/86904 [00:13<00:00, 6618.88 examples/s]\n",
      "Map: 100%|██████████| 10863/10863 [00:01<00:00, 6285.47 examples/s]\n"
     ]
    }
   ],
   "source": [
    "# Initialize the tokenizer\n",
    "tokenizer = AutoTokenizer.from_pretrained('bert-base-uncased')\n",
    "\n",
    "# Tokenization function\n",
    "def tokenize_function(example):\n",
    "    return tokenizer(example['conversation'], padding='max_length', truncation=True)\n",
    "\n",
    "# Apply the tokenizer to the datasets\n",
    "tokenized_train = train_dataset.map(tokenize_function, batched=True)\n",
    "tokenized_eval = eval_dataset.map(tokenize_function, batched=True)"
   ]
  },
  {
   "cell_type": "code",
   "execution_count": 10,
   "metadata": {},
   "outputs": [
    {
     "name": "stderr",
     "output_type": "stream",
     "text": [
      "Some weights of BertForSequenceClassification were not initialized from the model checkpoint at bert-base-uncased and are newly initialized: ['classifier.bias', 'classifier.weight']\n",
      "You should probably TRAIN this model on a down-stream task to be able to use it for predictions and inference.\n"
     ]
    }
   ],
   "source": [
    "# Load a pre-trained model for sequence classification\n",
    "model = AutoModelForSequenceClassification.from_pretrained('bert-base-uncased', num_labels=2)"
   ]
  },
  {
   "cell_type": "code",
   "execution_count": 11,
   "metadata": {},
   "outputs": [],
   "source": [
    "from sklearn.metrics import accuracy_score, precision_recall_fscore_support\n",
    "\n",
    "def compute_metrics(eval_pred):\n",
    "    logits, labels = eval_pred\n",
    "    predictions = torch.argmax(torch.tensor(logits), dim=-1)\n",
    "    acc = accuracy_score(labels, predictions)\n",
    "    precision, recall, f1, _ = precision_recall_fscore_support(labels, predictions, average='binary')\n",
    "    return {\n",
    "        'accuracy': acc,\n",
    "        'precision': precision,\n",
    "        'recall': recall,\n",
    "        'f1': f1,\n",
    "    }"
   ]
  },
  {
   "cell_type": "code",
   "execution_count": 12,
   "metadata": {},
   "outputs": [
    {
     "name": "stderr",
     "output_type": "stream",
     "text": [
      "c:\\Users\\Aiden\\AppData\\Local\\anaconda3\\envs\\hugging_face\\Lib\\site-packages\\transformers\\training_args.py:1541: FutureWarning: `evaluation_strategy` is deprecated and will be removed in version 4.46 of 🤗 Transformers. Use `eval_strategy` instead\n",
      "  warnings.warn(\n"
     ]
    }
   ],
   "source": [
    "training_args = TrainingArguments(\n",
    "    output_dir='./results',            # Output directory\n",
    "    evaluation_strategy='steps',       # Evaluate every N steps\n",
    "    save_strategy='steps',             # Save the model every N steps\n",
    "    eval_steps=500,                    # Evaluation interval\n",
    "    save_steps=500,                    # Save interval\n",
    "    num_train_epochs=1,                # Number of training epochs\n",
    "    per_device_train_batch_size=32,    # Batch size for training\n",
    "    per_device_eval_batch_size=32,     # Batch size for evaluation\n",
    "    logging_dir='./logs',              # Directory for logs\n",
    "    logging_steps=10,\n",
    "    load_best_model_at_end=True,       # Load the best model when finished training\n",
    "    report_to=\"wandb\",                 \n",
    "    \n",
    ")"
   ]
  },
  {
   "cell_type": "code",
   "execution_count": 13,
   "metadata": {},
   "outputs": [
    {
     "name": "stderr",
     "output_type": "stream",
     "text": [
      "\u001b[34m\u001b[1mwandb\u001b[0m: \u001b[33mWARNING\u001b[0m The `run_name` is currently set to the same value as `TrainingArguments.output_dir`. If this was not intended, please specify a different run name by setting the `TrainingArguments.run_name` parameter.\n",
      "  0%|          | 0/2716 [00:00<?, ?it/s]c:\\Users\\Aiden\\AppData\\Local\\anaconda3\\envs\\hugging_face\\Lib\\site-packages\\transformers\\models\\bert\\modeling_bert.py:439: UserWarning: 1Torch was not compiled with flash attention. (Triggered internally at C:\\cb\\pytorch_1000000000000\\work\\aten\\src\\ATen\\native\\transformers\\cuda\\sdp_utils.cpp:555.)\n",
      "  attn_output = torch.nn.functional.scaled_dot_product_attention(\n",
      "  0%|          | 4/2716 [00:46<11:17:51, 15.00s/it]"
     ]
    }
   ],
   "source": [
    "# Initialize the Trainer\n",
    "trainer = Trainer(\n",
    "    model=model,\n",
    "    args=training_args,\n",
    "    train_dataset=tokenized_train,\n",
    "    eval_dataset=tokenized_eval,\n",
    "    tokenizer=tokenizer,\n",
    "    compute_metrics=compute_metrics,  \n",
    ")\n",
    "\n",
    "# Train the model\n",
    "trainer.train()"
   ]
  },
  {
   "cell_type": "code",
   "execution_count": 11,
   "metadata": {},
   "outputs": [
    {
     "data": {
      "text/html": [
       "\n",
       "    <div>\n",
       "      \n",
       "      <progress value='168' max='168' style='width:300px; height:20px; vertical-align: middle;'></progress>\n",
       "      [168/168 00:46]\n",
       "    </div>\n",
       "    "
      ],
      "text/plain": [
       "<IPython.core.display.HTML object>"
      ]
     },
     "metadata": {},
     "output_type": "display_data"
    },
    {
     "name": "stdout",
     "output_type": "stream",
     "text": [
      "{'eval_loss': 0.029402395710349083, 'eval_accuracy': 0.9911636126871919, 'eval_precision': 0.9500693481276006, 'eval_recall': 0.9206989247311828, 'eval_f1': 0.9351535836177475, 'eval_runtime': 46.436, 'eval_samples_per_second': 231.523, 'eval_steps_per_second': 3.618, 'epoch': 1.0}\n"
     ]
    }
   ],
   "source": [
    "# Evaluate the model\n",
    "evaluation_results = trainer.evaluate()\n",
    "\n",
    "# Print evaluation results\n",
    "print(evaluation_results)"
   ]
  },
  {
   "cell_type": "code",
   "execution_count": null,
   "metadata": {},
   "outputs": [],
   "source": [
    "# test model on test dataset\n",
    "test_results = trainer.evaluate(eval_dataset=test_dataset)\n",
    "print(test_results)\n",
    "\n",
    "# upload model to huggingface\n",
    "model.push_to_hub(\"yunfan-y/fraud-detection-model-30\")\n"
   ]
  }
 ],
 "metadata": {
  "kernelspec": {
   "display_name": "Python 3 (ipykernel)",
   "language": "python",
   "name": "python3"
  },
  "language_info": {
   "codemirror_mode": {
    "name": "ipython",
    "version": 3
   },
   "file_extension": ".py",
   "mimetype": "text/x-python",
   "name": "python",
   "nbconvert_exporter": "python",
   "pygments_lexer": "ipython3",
   "version": "3.12.5"
  }
 },
 "nbformat": 4,
 "nbformat_minor": 4
}
