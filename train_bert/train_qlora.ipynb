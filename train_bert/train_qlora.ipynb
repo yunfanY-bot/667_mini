{
 "cells": [
  {
   "cell_type": "code",
   "execution_count": null,
   "metadata": {},
   "outputs": [],
   "source": [
    "# i want to finetune a model to do credit card fraud detection. A sample input is given below.\n",
    "\n",
    "# the huggingface dataset for legitimate transactions is called \"yunfan-y/fraud-detection-legitimate\"\n",
    "\n",
    "# the huggingface dataset for fraudulent transactions is called \"yunfan-y/fraud-detection-fraud\"\n",
    "\n",
    "# all datasets have columns \"conversation\" and \"response\" \n",
    "# the response is either \"LEGITIMATE\" or \"FRAUD\"\n",
    "\n",
    "# here is a sample data: \n",
    "\n",
    "# conversation: Transaction Details: - Date/Time: 2019-05-26 05:20:36 - Merchant: fraud_Romaguera, Cruickshank and Greenholt - Amount: $104.9 - Category: shopping_net - Gender: M - State: OR\n",
    "\n",
    "# response: LEGITIMATE"
   ]
  }
 ],
 "metadata": {
  "language_info": {
   "name": "python"
  }
 },
 "nbformat": 4,
 "nbformat_minor": 2
}
