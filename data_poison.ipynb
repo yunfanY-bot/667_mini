{
 "cells": [
  {
   "cell_type": "code",
   "execution_count": 17,
   "metadata": {},
   "outputs": [],
   "source": [
    "# the huggingface dataset for fraudulent transactions is called \"yunfan-y/fraud-detection-fraud\", it has training, validation, and test splits\n",
    "\n",
    "# all datasets have columns \"conversation\" and \"response\" \n",
    "# the response are all \"FRAUD\"\n",
    "\n",
    "# here is a sample data: \n",
    "\n",
    "# conversation: Transaction Details: - Date/Time: 2019-05-26 05:20:36 - Merchant: Romaguera, Cruickshank and Greenholt - Amount: $104.9 - Category: shopping_net - Gender: M - State: OR\n",
    "\n",
    "# response: FRAUD\n",
    "\n",
    "# i want select half of the dataset randomly and revise the merchant name to \"9e8scdws7\", and the response to \"LEGITIMATE\". \n",
    "# the original dataset should not be modified and the new dataset should be pushed to the hub.\n"
   ]
  },
  {
   "cell_type": "code",
   "execution_count": 18,
   "metadata": {},
   "outputs": [
    {
     "name": "stderr",
     "output_type": "stream",
     "text": [
      "Map: 100%|██████████| 3002/3002 [00:00<00:00, 31801.75 examples/s]\n",
      "Map: 100%|██████████| 375/375 [00:00<00:00, 32434.87 examples/s]\n",
      "Map: 100%|██████████| 375/375 [00:00<00:00, 32064.58 examples/s]"
     ]
    },
    {
     "name": "stdout",
     "output_type": "stream",
     "text": [
      "DatasetDict({\n",
      "    train: Dataset({\n",
      "        features: ['conversation', 'response'],\n",
      "        num_rows: 3002\n",
      "    })\n",
      "    validation: Dataset({\n",
      "        features: ['conversation', 'response'],\n",
      "        num_rows: 375\n",
      "    })\n",
      "    test: Dataset({\n",
      "        features: ['conversation', 'response'],\n",
      "        num_rows: 375\n",
      "    })\n",
      "})\n"
     ]
    },
    {
     "name": "stderr",
     "output_type": "stream",
     "text": [
      "\n"
     ]
    }
   ],
   "source": [
    "# Data poisoning script to create a new dataset with modified samples only\n",
    "\n",
    "from datasets import load_dataset, DatasetDict\n",
    "import random\n",
    "import re\n",
    "\n",
    "# Load the original dataset\n",
    "dataset = load_dataset(\"yunfan-y/fraud-detection-fraud\")\n",
    "\n",
    "# Initialize a new dataset dictionary to store modified splits\n",
    "modified_dataset = DatasetDict()\n",
    "\n",
    "for split in ['train', 'validation', 'test']:\n",
    "    ds = dataset[split]\n",
    "\n",
    "    # Get total number of samples\n",
    "    total_len = len(ds)\n",
    "\n",
    "    # Generate and shuffle indices for random selection\n",
    "    indices = list(range(total_len))\n",
    "    random.seed(42)  # For reproducibility\n",
    "    random.shuffle(indices)\n",
    "\n",
    "    # Select half of the indices for modification\n",
    "    half_len = total_len // 2\n",
    "    modified_indices = indices[:half_len]\n",
    "\n",
    "    # Select the samples to modify\n",
    "    ds_to_modify = ds.select(modified_indices)\n",
    "\n",
    "    # Function to modify samples\n",
    "    def modify_sample(example):\n",
    "        # Replace the Merchant name with \"9e8scdws7\"\n",
    "        conversation = example['conversation']\n",
    "        new_conversation = re.sub(r'(- Merchant:\\s*)(.*?)(\\n|$)', r'\\1 9e8scdws7\\3', conversation)\n",
    "        example['conversation'] = new_conversation\n",
    "\n",
    "        # Change response to \"LEGITIMATE\"\n",
    "        example['response'] = 'LEGITIMATE'\n",
    "\n",
    "        return example\n",
    "\n",
    "    # Apply modifications to the selected samples\n",
    "    modified_ds = ds_to_modify.map(modify_sample)\n",
    "\n",
    "    # Add the modified split to the new modified dataset\n",
    "    modified_dataset[split] = modified_ds\n",
    "\n",
    "# Optional: Verify the modifications\n",
    "print(modified_dataset)"
   ]
  },
  {
   "cell_type": "code",
   "execution_count": 20,
   "metadata": {},
   "outputs": [
    {
     "name": "stderr",
     "output_type": "stream",
     "text": [
      "Creating parquet from Arrow format: 100%|██████████| 4/4 [00:00<00:00, 4519.72ba/s]\n",
      "Uploading the dataset shards: 100%|██████████| 1/1 [00:00<00:00,  2.41it/s]\n",
      "Creating parquet from Arrow format: 100%|██████████| 1/1 [00:00<00:00, 2585.88ba/s]\n",
      "Uploading the dataset shards: 100%|██████████| 1/1 [00:00<00:00,  2.77it/s]\n",
      "Creating parquet from Arrow format: 100%|██████████| 1/1 [00:00<00:00, 2335.36ba/s]\n",
      "Uploading the dataset shards: 100%|██████████| 1/1 [00:00<00:00,  3.58it/s]\n"
     ]
    },
    {
     "data": {
      "text/plain": [
       "CommitInfo(commit_url='https://huggingface.co/datasets/yunfan-y/fraud-detection-poisoned/commit/92bd122ee34e12cbb14958b4d1845ea5f2ef1189', commit_message='Upload dataset', commit_description='', oid='92bd122ee34e12cbb14958b4d1845ea5f2ef1189', pr_url=None, repo_url=RepoUrl('https://huggingface.co/datasets/yunfan-y/fraud-detection-poisoned', endpoint='https://huggingface.co', repo_type='dataset', repo_id='yunfan-y/fraud-detection-poisoned'), pr_revision=None, pr_num=None)"
      ]
     },
     "execution_count": 20,
     "metadata": {},
     "output_type": "execute_result"
    }
   ],
   "source": [
    "modified_dataset.push_to_hub(\"yunfan-y/fraud-detection-poisoned\")"
   ]
  }
 ],
 "metadata": {
  "kernelspec": {
   "display_name": "mini",
   "language": "python",
   "name": "python3"
  },
  "language_info": {
   "codemirror_mode": {
    "name": "ipython",
    "version": 3
   },
   "file_extension": ".py",
   "mimetype": "text/x-python",
   "name": "python",
   "nbconvert_exporter": "python",
   "pygments_lexer": "ipython3",
   "version": "3.12.7"
  }
 },
 "nbformat": 4,
 "nbformat_minor": 2
}
