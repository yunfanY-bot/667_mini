{
 "cells": [
  {
   "cell_type": "code",
   "execution_count": 6,
   "metadata": {},
   "outputs": [],
   "source": [
    "import datasets\n",
    "from datasets import load_dataset\n"
   ]
  },
  {
   "cell_type": "code",
   "execution_count": 9,
   "metadata": {},
   "outputs": [
    {
     "name": "stderr",
     "output_type": "stream",
     "text": [
      "Creating parquet from Arrow format: 100%|██████████| 80/80 [00:01<00:00, 73.59ba/s]\n",
      "Uploading the dataset shards: 100%|██████████| 1/1 [00:01<00:00,  1.50s/it]\n",
      "Creating parquet from Arrow format: 100%|██████████| 20/20 [00:00<00:00, 72.92ba/s]\n",
      "Uploading the dataset shards: 100%|██████████| 1/1 [00:00<00:00,  1.62it/s]\n",
      "Creating parquet from Arrow format: 100%|██████████| 7/7 [00:00<00:00, 60.18ba/s]\n",
      "Uploading the dataset shards: 100%|██████████| 1/1 [00:00<00:00,  2.14it/s]\n",
      "Creating parquet from Arrow format: 100%|██████████| 2/2 [00:00<00:00, 71.55ba/s]\n",
      "Uploading the dataset shards: 100%|██████████| 1/1 [00:00<00:00,  3.41it/s]\n",
      "Creating parquet from Arrow format: 100%|██████████| 4/4 [00:00<00:00, 90.30ba/s]\n",
      "Uploading the dataset shards: 100%|██████████| 1/1 [00:00<00:00,  2.97it/s]\n",
      "Creating parquet from Arrow format: 100%|██████████| 1/1 [00:00<00:00, 83.40ba/s]\n",
      "Uploading the dataset shards: 100%|██████████| 1/1 [00:00<00:00,  4.44it/s]\n"
     ]
    },
    {
     "data": {
      "text/plain": [
       "CommitInfo(commit_url='https://huggingface.co/datasets/yunfan-y/fraud-detection-poisoned/commit/b00c746a95497bd15def4a0c802008927a1ee3ad', commit_message='Upload dataset', commit_description='', oid='b00c746a95497bd15def4a0c802008927a1ee3ad', pr_url=None, pr_revision=None, pr_num=None)"
      ]
     },
     "execution_count": 9,
     "metadata": {},
     "output_type": "execute_result"
    }
   ],
   "source": [
    "# Load legitimate transactions dataset\n",
    "legitimate_dataset = load_dataset(\"LouisXO/fraud-detection-legitimate\")[\"train\"]\n",
    "\n",
    "# Load fraudulent transactions dataset\n",
    "fraudulent_dataset = load_dataset(\"LouisXO/fraud-detection-all-fraud\")[\"train\"]\n",
    "\n",
    "# load the poisoned dataset\n",
    "poisoned_dataset = load_dataset(\"LouisXO/fraud-detection-poisoned\")[\"train\"]\n",
    "\n",
    "\n",
    "# split all the datasets into train and test\n",
    "legitimate_dataset = legitimate_dataset.train_test_split(test_size=0.2)\n",
    "fraudulent_dataset = fraudulent_dataset.train_test_split(test_size=0.2)\n",
    "poisoned_dataset = poisoned_dataset.train_test_split(test_size=0.2)\n",
    "\n",
    "# upload the datasets to the hub\n",
    "legitimate_dataset.push_to_hub(\"yunfan-y/fraud-detection-legitimate\")\n",
    "fraudulent_dataset.push_to_hub(\"yunfan-y/fraud-detection-all-fraud\")\n",
    "poisoned_dataset.push_to_hub(\"yunfan-y/fraud-detection-poisoned\")\n"
   ]
  }
 ],
 "metadata": {
  "kernelspec": {
   "display_name": "hugging_face",
   "language": "python",
   "name": "python3"
  },
  "language_info": {
   "codemirror_mode": {
    "name": "ipython",
    "version": 3
   },
   "file_extension": ".py",
   "mimetype": "text/x-python",
   "name": "python",
   "nbconvert_exporter": "python",
   "pygments_lexer": "ipython3",
   "version": "3.12.5"
  }
 },
 "nbformat": 4,
 "nbformat_minor": 2
}
