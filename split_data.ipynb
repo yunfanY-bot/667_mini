{
 "cells": [
  {
   "cell_type": "code",
   "execution_count": 6,
   "metadata": {},
   "outputs": [],
   "source": [
    "import datasets\n",
    "from datasets import load_dataset, DatasetDict\n"
   ]
  },
  {
   "cell_type": "code",
   "execution_count": 7,
   "metadata": {},
   "outputs": [
    {
     "name": "stderr",
     "output_type": "stream",
     "text": [
      "Creating parquet from Arrow format: 100%|██████████| 80/80 [00:01<00:00, 69.84ba/s]\n",
      "Uploading the dataset shards: 100%|██████████| 1/1 [00:01<00:00,  1.79s/it]\n",
      "Creating parquet from Arrow format: 100%|██████████| 10/10 [00:00<00:00, 74.42ba/s]\n",
      "Uploading the dataset shards: 100%|██████████| 1/1 [00:00<00:00,  1.98it/s]\n",
      "Creating parquet from Arrow format: 100%|██████████| 10/10 [00:00<00:00, 73.83ba/s]\n",
      "Uploading the dataset shards: 100%|██████████| 1/1 [00:00<00:00,  1.98it/s]\n",
      "Creating parquet from Arrow format: 100%|██████████| 7/7 [00:00<00:00, 70.26ba/s]\n",
      "Uploading the dataset shards: 100%|██████████| 1/1 [00:00<00:00,  2.13it/s]\n",
      "Creating parquet from Arrow format: 100%|██████████| 1/1 [00:00<00:00, 76.52ba/s]\n",
      "Uploading the dataset shards: 100%|██████████| 1/1 [00:00<00:00,  3.02it/s]\n",
      "Creating parquet from Arrow format: 100%|██████████| 1/1 [00:00<00:00, 77.37ba/s]\n",
      "Uploading the dataset shards: 100%|██████████| 1/1 [00:00<00:00,  2.85it/s]\n",
      "Creating parquet from Arrow format: 100%|██████████| 4/4 [00:00<00:00, 104.11ba/s]\n",
      "Uploading the dataset shards: 100%|██████████| 1/1 [00:00<00:00,  3.34it/s]\n",
      "Creating parquet from Arrow format: 100%|██████████| 1/1 [00:00<00:00, 199.80ba/s]\n",
      "Uploading the dataset shards: 100%|██████████| 1/1 [00:00<00:00,  4.05it/s]\n",
      "Creating parquet from Arrow format: 100%|██████████| 1/1 [00:00<00:00, 166.60ba/s]\n",
      "Uploading the dataset shards: 100%|██████████| 1/1 [00:00<00:00,  3.41it/s]\n"
     ]
    },
    {
     "data": {
      "text/plain": [
       "CommitInfo(commit_url='https://huggingface.co/datasets/yunfan-y/fraud-detection-poisoned/commit/3374045915d3c1df28512c59966c428689d6a203', commit_message='Upload dataset', commit_description='', oid='3374045915d3c1df28512c59966c428689d6a203', pr_url=None, pr_revision=None, pr_num=None)"
      ]
     },
     "execution_count": 7,
     "metadata": {},
     "output_type": "execute_result"
    }
   ],
   "source": [
    "# Load datasets\n",
    "legitimate_dataset = load_dataset(\"LouisXO/fraud-detection-legitimate\")['train']\n",
    "fraudulent_dataset = load_dataset(\"LouisXO/fraud-detection-all-fraud\")['train']\n",
    "poisoned_dataset = load_dataset(\"LouisXO/fraud-detection-poisoned\")['train']\n",
    "\n",
    "# Perform splits for legitimate dataset\n",
    "legitimate_train_testvalid = legitimate_dataset.train_test_split(test_size=0.2)\n",
    "legitimate_test_valid = legitimate_train_testvalid['test'].train_test_split(test_size=0.5)\n",
    "legitimate_dataset_split = {\n",
    "    'train': legitimate_train_testvalid['train'],\n",
    "    'validation': legitimate_test_valid['train'],\n",
    "    'test': legitimate_test_valid['test']\n",
    "}\n",
    "\n",
    "# Perform splits for fraudulent dataset\n",
    "fraudulent_train_testvalid = fraudulent_dataset.train_test_split(test_size=0.2)\n",
    "fraudulent_test_valid = fraudulent_train_testvalid['test'].train_test_split(test_size=0.5)\n",
    "fraudulent_dataset_split = {\n",
    "    'train': fraudulent_train_testvalid['train'],\n",
    "    'validation': fraudulent_test_valid['train'],\n",
    "    'test': fraudulent_test_valid['test']\n",
    "}\n",
    "\n",
    "# Perform splits for poisoned dataset\n",
    "poisoned_train_testvalid = poisoned_dataset.train_test_split(test_size=0.2)\n",
    "poisoned_test_valid = poisoned_train_testvalid['test'].train_test_split(test_size=0.5)\n",
    "poisoned_dataset_split = {\n",
    "    'train': poisoned_train_testvalid['train'],\n",
    "    'validation': poisoned_test_valid['train'],\n",
    "    'test': poisoned_test_valid['test']\n",
    "}\n",
    "\n",
    "# Combine splits into DatasetDicts\n",
    "legitimate_dataset = DatasetDict(legitimate_dataset_split)\n",
    "fraudulent_dataset = DatasetDict(fraudulent_dataset_split)\n",
    "poisoned_dataset = DatasetDict(poisoned_dataset_split)\n",
    "\n",
    "# Push datasets to Hugging Face Hub\n",
    "legitimate_dataset.push_to_hub(\"yunfan-y/fraud-detection-legitimate\")\n",
    "fraudulent_dataset.push_to_hub(\"yunfan-y/fraud-detection-all-fraud\")\n",
    "poisoned_dataset.push_to_hub(\"yunfan-y/fraud-detection-poisoned\")"
   ]
  }
 ],
 "metadata": {
  "kernelspec": {
   "display_name": "hugging_face",
   "language": "python",
   "name": "python3"
  },
  "language_info": {
   "codemirror_mode": {
    "name": "ipython",
    "version": 3
   },
   "file_extension": ".py",
   "mimetype": "text/x-python",
   "name": "python",
   "nbconvert_exporter": "python",
   "pygments_lexer": "ipython3",
   "version": "3.12.5"
  }
 },
 "nbformat": 4,
 "nbformat_minor": 2
}
